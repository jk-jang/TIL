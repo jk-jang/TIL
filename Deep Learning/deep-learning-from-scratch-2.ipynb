{
 "cells": [
  {
   "cell_type": "markdown",
   "metadata": {
    "collapsed": true
   },
   "source": [
    "# 퍼셉트론\n",
    "## 2.1 퍼셉트론이란?\n",
    " - 신경망(딥러닝)의 기원이 되는 알고리즘\n",
    " - 하나의 신경세포(뉴런)를 표현하는 알고리즘 중 하나\n",
    " - 다수의 입력을 하나의 2진수 값으로 출력하는 알고리즘\n",
    "<img src=\"images/fig%202-1.png\" height=\"480\" width=\"480\">\n",
    "\n",
    " - $x_1$ 과 $x_2$는 입력신호 \n",
    " - $w_1$ 과 $w_2$는 가중치\n",
    " - $y$는 출력신호\n",
    "> $w$를 전류의 저항이라 생각하자\n",
    " - 원을 뉴런(or 노드)\n",
    " - ## 식2.1\n",
    "<img src=\"files/images/e%202.1.png\" height=\"480\" width=\"480\">\n",
    "\n",
    " - $\\theta$(theta)는 임계값(한계값)\n",
    " - 입력의 총합이 $\\theta$ 초과이면 1(활성화) `or` $\\theta$ 이하이면 0(비활성화)\n",
    " - $w$, $\\theta$가 $y$에 영향력을 조절하는 요소(매개변수)\n",
    "\n",
    "## 2.2 단순한 논리 회로\n",
    "### 2.2.1 AND 게이트\n",
    "\n",
    "- 입력은 두 개, 출력은 하나\n",
    "- **진리표**: 입력과 출력에 대한 대응표\n",
    "<img src=\"files/images/fig%202-2.png\" height=\"480\" width=\"480\">\n",
    "\n",
    "- 퍼셉트론으로 표현을 위해 $w_1$, $w_2$, $\\theta$를 정해야함\n",
    "> 퍼셉트론으로 AND 회로 문제를 푼다고 생각하자\n",
    "\n",
    "- 조합은 무한히 많음(0.5, 0.5, 0.7), (1.0, 1.0, 1.0)...\n",
    "\n",
    "> AND게이트 진리표 첫 줄을 계산해보자\n",
    "\n",
    "- *Step1.* 조합(0.5, 0.5, 0.7)을 사용\n",
    "\n",
    "- *Step2.* 신호의 총합 구하기\n",
    "    - 0 $\\times$ 0.5 $+$ 0 $\\times$ 0.5 = 0\n",
    "- *Step3.* $\\theta$(임계치와 비교)\n",
    "    - 0 < $\\theta$ = 0.7 식2.1에 의해 $\\therefore$ $y$ = 0 \n",
    "- *Step4.* 진리표 만족\n",
    "\n",
    "### 2.2.2 NAND 게이트 OR 게이트\n",
    " - NAND: Not AND(AND게이트를 뒤집은 것)\n",
    " - NAND 진리표\n",
    "<img src=\"files/images/fig%202-3.png\" height=\"480\" width=\"480\">\n",
    "\n",
    " - OR 진리표\n",
    "<img src=\"files/images/fig%202-4.png\" height=\"480\" width=\"480\">\n",
    "\n",
    "## 2.3 퍼셉트론 구현하기\n",
    "### 2.3.1 간단한 구현부터"
   ]
  },
  {
   "cell_type": "code",
   "execution_count": 2,
   "metadata": {
    "collapsed": false
   },
   "outputs": [
    {
     "data": {
      "text/plain": [
       "0"
      ]
     },
     "execution_count": 2,
     "metadata": {},
     "output_type": "execute_result"
    }
   ],
   "source": [
    "AND 게이트 구현\n",
    "def AND(x1, x2):\n",
    "    w1, w2, theta = 0.5, 0.5, 0.7\n",
    "    tmp = x1 * w1 + x2 * w2\n",
    "    if tmp <= theta:\n",
    "        return 0\n",
    "    elif tmp > theta:\n",
    "        return 1\n",
    "    \n",
    "AND(0, 0)"
   ]
  },
  {
   "cell_type": "code",
   "execution_count": 14,
   "metadata": {
    "collapsed": false
   },
   "outputs": [
    {
     "data": {
      "text/plain": [
       "0"
      ]
     },
     "execution_count": 14,
     "metadata": {},
     "output_type": "execute_result"
    }
   ],
   "source": [
    "AND(1, 0)"
   ]
  },
  {
   "cell_type": "code",
   "execution_count": 15,
   "metadata": {
    "collapsed": false
   },
   "outputs": [
    {
     "data": {
      "text/plain": [
       "0"
      ]
     },
     "execution_count": 15,
     "metadata": {},
     "output_type": "execute_result"
    }
   ],
   "source": [
    "AND(0, 1)"
   ]
  },
  {
   "cell_type": "code",
   "execution_count": 16,
   "metadata": {
    "collapsed": true
   },
   "outputs": [],
   "source": [
    "AND(1, 1)"
   ]
  },
  {
   "cell_type": "markdown",
   "metadata": {},
   "source": [
    "> # 위에꺼 얘는 왜 안되지?"
   ]
  },
  {
   "cell_type": "markdown",
   "metadata": {},
   "source": [
    "### 2.3.2 가중치와 편향 도입\n",
    "- 식2.1의 $\\theta$를 -$b$(편향)로 치환\n",
    "- 앞으로를 생각해서 식2.2로 바꾸자\n",
    "\n",
    "> 일단 이해 안가지만 스킵\n",
    "\n",
    "- ## 식2.2\n",
    "<img src=\"files/images/e%202.2.png\" height=\"480\" width=\"480\">\n",
    "\n",
    "- numpy 이용해서 구현"
   ]
  },
  {
   "cell_type": "code",
   "execution_count": 18,
   "metadata": {
    "collapsed": false
   },
   "outputs": [
    {
     "data": {
      "text/plain": [
       "-0.19999999999999996"
      ]
     },
     "execution_count": 18,
     "metadata": {},
     "output_type": "execute_result"
    }
   ],
   "source": [
    "import numpy as np\n",
    "x = np.array([0, 1])\n",
    "w = np.array([0.5, 0.5])\n",
    "b = -0.7\n",
    "np.sum(w * x) + b"
   ]
  },
  {
   "cell_type": "markdown",
   "metadata": {},
   "source": [
    "np.sum(w * x) + b  $\\leq $ 0\n",
    "\n",
    "식2.2에 의해 $\\therefore$ $y$ = 0 "
   ]
  },
  {
   "cell_type": "markdown",
   "metadata": {},
   "source": [
    "### 2.3.3 가중치와 편향 구현하기\n",
    "#### AND게이트 구현"
   ]
  },
  {
   "cell_type": "code",
   "execution_count": 24,
   "metadata": {
    "collapsed": true
   },
   "outputs": [],
   "source": [
    "def AND(x1, x2):\n",
    "    x = np.array([x1, x2])\n",
    "    w = np.array([0.5, 0.5])\n",
    "    b = -0.7\n",
    "    tmp = np.sum(w*x) + b\n",
    "    if tmp <= 0:\n",
    "        return 0\n",
    "    else:\n",
    "        return 1"
   ]
  },
  {
   "cell_type": "markdown",
   "metadata": {},
   "source": [
    "#### NAND게이트 구현"
   ]
  },
  {
   "cell_type": "code",
   "execution_count": 25,
   "metadata": {
    "collapsed": true
   },
   "outputs": [],
   "source": [
    "def NAND(x1, x2):\n",
    "    x = np.array([x1, x2])\n",
    "    w = np.array([-0.5, -0.5]) #AND와는 가중치(w와 b)만 다르다.\n",
    "    b = 0.7\n",
    "    tmp = np.sum(w*x) + b\n",
    "    if tmp <= 0:\n",
    "        return 0\n",
    "    else:\n",
    "        return 1"
   ]
  },
  {
   "cell_type": "markdown",
   "metadata": {},
   "source": [
    "#### OR게이트 구현"
   ]
  },
  {
   "cell_type": "code",
   "execution_count": 26,
   "metadata": {
    "collapsed": true
   },
   "outputs": [],
   "source": [
    "def OR(x1, x2):\n",
    "    x = np.array([x1, x2])\n",
    "    w = np.array([0.5, 0.5]) #AND와는 가중치(w와 b)만 다르다.\n",
    "    b = -0.2\n",
    "    tmp = np.sum(w*x) + b\n",
    "    if tmp <= 0:\n",
    "        return 0\n",
    "    else:\n",
    "        return 1"
   ]
  },
  {
   "cell_type": "markdown",
   "metadata": {},
   "source": [
    "## 2.4 퍼셉트론 한계\n",
    "- 단층 퍼셉트론으로는 직선 하나로 나눈 영역만 표현할 수 있는 한계\n",
    "- 퍼셉트론 시각화: OR 게이트 성질 만족\n",
    "<img src=\"files/images/fig%202-6.png\" height=\"480\" width=\"480\">\n",
    "\n",
    "### 2.4.1 XOR 게이트\n",
    "- 배타적 논리합(자기 외에는 거부)\n",
    "- AND, NAND, OR 게이트로 엄청 복잡해지는 것을 XOR로 해결 가능(회로 관련)\n",
    "- XOR 진리표\n",
    "<img src=\"files/images/fig%202-5.png\" height=\"480\" width=\"480\">\n",
    "- XOR 게이트 출력\n",
    "- 단층 퍼셉트론으로는 XOR게이트를 만족하는 영역을 만들 수 없음(직선 하나로 2진수의 값(label)을 나눌 수 없음)\n",
    "- ## But! 다층 퍼셉트론(Multi-layer perceptron)을 만들면 비선형 영역을 표현할 수 있음\n",
    "\n",
    "### 2.5.1 기존 게이트 조합\n",
    "- XOR 게이트 만드는 방법은 다양\n",
    "- AND, NAND, OR 게이트를 조합할 거\n",
    "- AND, NAND, OR 게이트 기호\n",
    "<img src=\"files/images/fig%202-9.png\" height=\"480\" width=\"480\">\n",
    "- AND, NAND, OR 게이트를 조합해 구현한 XOR 게이트\n",
    "<img src=\"files/images/fig%202-11.png\" height=\"480\" width=\"480\">\n",
    "\n",
    "- XOR 게이트 진리표\n",
    "<img src=\"files/images/fig%202-12.png\" height=\"480\" width=\"480\">\n",
    "\n",
    "### 2.5.2 XOR 게이트 구현"
   ]
  },
  {
   "cell_type": "code",
   "execution_count": 27,
   "metadata": {
    "collapsed": false
   },
   "outputs": [
    {
     "data": {
      "text/plain": [
       "0"
      ]
     },
     "execution_count": 27,
     "metadata": {},
     "output_type": "execute_result"
    }
   ],
   "source": [
    "def XOR(x1, x2):\n",
    "    s1 = NAND(x1, x2)\n",
    "    s2 = OR(x1, x2)\n",
    "    y = AND(s1, s2)\n",
    "    return y\n",
    "XOR(0, 0)"
   ]
  },
  {
   "cell_type": "code",
   "execution_count": 28,
   "metadata": {
    "collapsed": false
   },
   "outputs": [
    {
     "data": {
      "text/plain": [
       "1"
      ]
     },
     "execution_count": 28,
     "metadata": {},
     "output_type": "execute_result"
    }
   ],
   "source": [
    "XOR(1, 0)"
   ]
  },
  {
   "cell_type": "code",
   "execution_count": 29,
   "metadata": {
    "collapsed": false
   },
   "outputs": [
    {
     "data": {
      "text/plain": [
       "1"
      ]
     },
     "execution_count": 29,
     "metadata": {},
     "output_type": "execute_result"
    }
   ],
   "source": [
    "XOR(0, 1)"
   ]
  },
  {
   "cell_type": "code",
   "execution_count": 30,
   "metadata": {
    "collapsed": false
   },
   "outputs": [
    {
     "data": {
      "text/plain": [
       "0"
      ]
     },
     "execution_count": 30,
     "metadata": {},
     "output_type": "execute_result"
    }
   ],
   "source": [
    "XOR(1, 1)"
   ]
  },
  {
   "cell_type": "markdown",
   "metadata": {},
   "source": [
    "- XOR 게이트의 퍼셉트론\n",
    "<img src=\"files/images/fig%202-13.png\" height=\"480\" width=\"480\">\n",
    "- XOR은 2층 퍼셉트론(가중치를 갖는 층의 개수를 기준)\n",
    "- $\\ast$ 문헌에 따라 구성 층 수(Layer)를 기준으로 해서 3층 퍼셉트론이라 부름"
   ]
  }
 ],
 "metadata": {
  "kernelspec": {
   "display_name": "Python 3",
   "language": "python",
   "name": "python3"
  },
  "language_info": {
   "codemirror_mode": {
    "name": "ipython",
    "version": 3
   },
   "file_extension": ".py",
   "mimetype": "text/x-python",
   "name": "python",
   "nbconvert_exporter": "python",
   "pygments_lexer": "ipython3",
   "version": "3.4.5"
  }
 },
 "nbformat": 4,
 "nbformat_minor": 0
}
