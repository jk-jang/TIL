{
 "cells": [
  {
   "cell_type": "markdown",
   "metadata": {},
   "source": [
    "- Indentation\n",
    "\n",
    "Use 4 spaces per indentation level\n",
    "> 요즘 소스코드 편집기에서 'tab' 누르면 자동 4 spaces 됨"
   ]
  },
  {
   "cell_type": "markdown",
   "metadata": {},
   "source": [
    "- class명은 'CamelCase'\n",
    "- 함수명은 'snake_case'\n",
    "- 인스턴스 메소드의 첫 번째 인자는 언제나 'self'\n",
    "- 클래스 메소드의 첫 번째 인자는 언제나 'cls'"
   ]
  },
  {
   "cell_type": "markdown",
   "metadata": {},
   "source": [
    "[참고사이트](https://spoqa.github.io/2012/08/03/about-python-coding-convention.html)"
   ]
  }
 ],
 "metadata": {
  "kernelspec": {
   "display_name": "Python [default]",
   "language": "python",
   "name": "python3"
  },
  "language_info": {
   "codemirror_mode": {
    "name": "ipython",
    "version": 3
   },
   "file_extension": ".py",
   "mimetype": "text/x-python",
   "name": "python",
   "nbconvert_exporter": "python",
   "pygments_lexer": "ipython3",
   "version": "3.6.0"
  }
 },
 "nbformat": 4,
 "nbformat_minor": 2
}
