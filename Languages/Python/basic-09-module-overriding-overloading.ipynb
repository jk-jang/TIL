{
 "cells": [
  {
   "cell_type": "markdown",
   "metadata": {},
   "source": [
    "# overriding\n",
    "- 클래스 상속에서 사용되는 개념\n",
    "- 상위 클래스가 가지고 있는 메소드를 하위 클래스가 재정의\n",
    "> 자바가 이럼. 이해할 필요없\n",
    "\n",
    "\n",
    "# overloading\n",
    "- 인자와 리턴타입이 다른 멤버 함수를 여럿 정의하는 것\n",
    "- 파이썬에서는 미지원"
   ]
  },
  {
   "cell_type": "markdown",
   "metadata": {},
   "source": [
    "\\__str__: informal 문자열\n",
    "\n",
    "\\__repr__: 시스템이 해당객체를 인식할 수 있는 official 문자열, 디버깅을 위해 사용"
   ]
  },
  {
   "cell_type": "markdown",
   "metadata": {},
   "source": [
    "```python\n",
    "#person.py\n",
    "class Person:\n",
    "    def __init__(self, name, age):\n",
    "        self.name = name\n",
    "        self.age = age\n",
    "    \n",
    "    def __str__(self):\n",
    "        return self.name\n",
    "    \n",
    "    def __repr__(self):\n",
    "        return 'Person(\"{}\",{})'.format(self.name, self.age)\n",
    "```"
   ]
  },
  {
   "cell_type": "markdown",
   "metadata": {},
   "source": [
    "### 결과 화면"
   ]
  },
  {
   "cell_type": "markdown",
   "metadata": {},
   "source": [
    "```python\n",
    "person = Person('Tom',10)\n",
    "print(person)\n",
    "```"
   ]
  },
  {
   "cell_type": "markdown",
   "metadata": {},
   "source": [
    "Tom"
   ]
  },
  {
   "cell_type": "markdown",
   "metadata": {},
   "source": [
    "```python\n",
    "repr(person)\n",
    "```"
   ]
  },
  {
   "cell_type": "markdown",
   "metadata": {},
   "source": [
    "Person(\"Tom\", 10)"
   ]
  },
  {
   "cell_type": "markdown",
   "metadata": {},
   "source": [
    "\\__getitem__: self[key]를 구현\n",
    "\n",
    "\\__setitem__: self[key] = value"
   ]
  },
  {
   "cell_type": "markdown",
   "metadata": {},
   "source": [
    "```python\n",
    "#person.py\n",
    "class Person:\n",
    "    def __init__(self, name, age, foods):\n",
    "        self.name = name\n",
    "        self.age = age\n",
    "        self.foods = foods\n",
    "    \n",
    "    def __getitem__(self, key):\n",
    "        return self.foods[key]\n",
    "    \n",
    "    def __setitem__(self, key, value):\n",
    "        self.foods[key] = value\n",
    "        \n",
    "foods = ['사과', '피자']\n",
    "tom = Person('Tom', 10, foods)\n",
    "print(tom[1])\n",
    "```"
   ]
  },
  {
   "cell_type": "markdown",
   "metadata": {},
   "source": [
    "### 결과화면"
   ]
  },
  {
   "cell_type": "markdown",
   "metadata": {},
   "source": [
    "```python\n",
    "python person.py\n",
    "```"
   ]
  },
  {
   "cell_type": "markdown",
   "metadata": {},
   "source": [
    "피자"
   ]
  },
  {
   "cell_type": "markdown",
   "metadata": {},
   "source": [
    "```python\n",
    "tom[1] = '초코우유'\n",
    "print(tom.foods)\n",
    "```"
   ]
  },
  {
   "cell_type": "markdown",
   "metadata": {},
   "source": [
    "사과 초코우유 피자"
   ]
  },
  {
   "cell_type": "code",
   "execution_count": null,
   "metadata": {
    "collapsed": true
   },
   "outputs": [],
   "source": []
  }
 ],
 "metadata": {
  "kernelspec": {
   "display_name": "Python [default]",
   "language": "python",
   "name": "python3"
  },
  "language_info": {
   "codemirror_mode": {
    "name": "ipython",
    "version": 3
   },
   "file_extension": ".py",
   "mimetype": "text/x-python",
   "name": "python",
   "nbconvert_exporter": "python",
   "pygments_lexer": "ipython3",
   "version": "3.6.0"
  }
 },
 "nbformat": 4,
 "nbformat_minor": 2
}
