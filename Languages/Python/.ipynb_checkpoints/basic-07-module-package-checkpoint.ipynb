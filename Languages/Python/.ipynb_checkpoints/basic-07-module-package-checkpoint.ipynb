{
 "cells": [
  {
   "cell_type": "markdown",
   "metadata": {},
   "source": [
    "# module\n",
    "- 다수의 함수, 클래스를 정의해둔 파이썬 소스코드 파일"
   ]
  },
  {
   "cell_type": "markdown",
   "metadata": {},
   "source": [
    "### module 생성"
   ]
  },
  {
   "cell_type": "markdown",
   "metadata": {},
   "source": [
    "```python\n",
    "# mymodule.py\n",
    "def mysum(x, y):\n",
    "    return x + y\n",
    "\n",
    "mymultiply = lambda x,y: x*y\n",
    "```"
   ]
  },
  {
   "cell_type": "markdown",
   "metadata": {},
   "source": [
    "### moudle 불러오기"
   ]
  },
  {
   "cell_type": "markdown",
   "metadata": {
    "collapsed": true
   },
   "source": [
    "```python\n",
    "import module # module.py 내 사항을 가져옴\n",
    "module.mysum # module.py 내에 mysum 함수를 가져옴\n",
    "from module import mysum # 이렇게 해도 됨\n",
    "```"
   ]
  },
  {
   "cell_type": "markdown",
   "metadata": {},
   "source": [
    "# package\n",
    "- 파이썬 소스코드가 들어있는 디렉토리\n",
    "- 패키지 import는 \\__init__.py가 대상"
   ]
  },
  {
   "cell_type": "markdown",
   "metadata": {},
   "source": [
    "### package 생성"
   ]
  },
  {
   "cell_type": "markdown",
   "metadata": {},
   "source": [
    "Tree map\n",
    "```python\n",
    "my\n",
    "|__init__.py\n",
    "|math.py\n",
    "    |mysum\n",
    "```    "
   ]
  },
  {
   "cell_type": "markdown",
   "metadata": {},
   "source": [
    "```python\n",
    "# my/math.py\n",
    "def mysum(a,b):\n",
    "    return a+b\n",
    "\n",
    "# 얘를 import하려면 원래는 아래처럼 해야함\n",
    "\n",
    "from my.math import mysum\n",
    "\n",
    "# 근데 패키지에서 math.py의 mysum을 바로 쓰고 싶다.\n",
    "# 그럴려면\n",
    "# __init__.py 에다가\n",
    "from .math import mysum\n",
    "\n",
    "# 이렇게 해주면 패키지에서 바로 mysum함수 사용가능\n",
    "\n",
    "from my import mysum\n",
    "```"
   ]
  },
  {
   "cell_type": "markdown",
   "metadata": {},
   "source": [
    "## \\__name__\n",
    "- 최초 진입 소스코드일 경우 \\__main__으로 출력\n",
    "- import된 소스코드일 경우 본래 이름으로 출력"
   ]
  },
  {
   "cell_type": "markdown",
   "metadata": {},
   "source": [
    "```python\n",
    "# mymodule.py 생성\n",
    "print(\"mymodule.py 내 __name__: {}\".format(__name__))\n",
    "\n",
    "# mymodule.py 실행\n",
    "python mymodule.py\n",
    "\n",
    "# 결과화면1\n",
    "mymodule.py 내 __name__: __main__ #최초 실행\n",
    "\n",
    "# 한 번 더 실행 하면\n",
    "python mymodule.py\n",
    "\n",
    "# 결과화면2\n",
    "mymodule.py 내 __name__: mymodule \n",
    "```    "
   ]
  },
  {
   "cell_type": "markdown",
   "metadata": {},
   "source": [
    "# 올바른 사용 사례\n",
    "```python\n",
    "def main():\n",
    "    print('본 스크립트가 최초 진입 소스코드 입니다')\n",
    "    \n",
    "if __name__ == '__main__':\n",
    "    main()\n",
    "```"
   ]
  }
 ],
 "metadata": {
  "kernelspec": {
   "display_name": "Python [default]",
   "language": "python",
   "name": "python3"
  },
  "language_info": {
   "codemirror_mode": {
    "name": "ipython",
    "version": 3
   },
   "file_extension": ".py",
   "mimetype": "text/x-python",
   "name": "python",
   "nbconvert_exporter": "python",
   "pygments_lexer": "ipython3",
   "version": "3.6.0"
  }
 },
 "nbformat": 4,
 "nbformat_minor": 2
}
