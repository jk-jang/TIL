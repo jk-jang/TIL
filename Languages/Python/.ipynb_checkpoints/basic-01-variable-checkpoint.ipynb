{
 "cells": [
  {
   "cell_type": "markdown",
   "metadata": {},
   "source": [
    "### 변수 특징\n",
    "    - 메모리 주소를 갖는다(참조변수)\n",
    "    - 객체: 메모리에 저장된 값\n",
    "    - 객체의 주소를 갖는 것을 변수(R이랑 다름)"
   ]
  },
  {
   "cell_type": "code",
   "execution_count": 2,
   "metadata": {
    "collapsed": false
   },
   "outputs": [
    {
     "name": "stdout",
     "output_type": "stream",
     "text": [
      "7 0.1 0.1 7\n",
      "1862580880 83174456 83174456 1862580880\n"
     ]
    }
   ],
   "source": [
    "a=7; b=0.1; c=b; d=7; print(a,b,c,d)\n",
    "#d의 경우 a가 7을 변수로 지정해줬기 때문에, d는 7을 변수로 지정하지 않고 주소만 가져온다.아래참고\n",
    "\n",
    "#주소 출력 id(변수명)\n",
    "print(id(a),id(b),id(c),id(d))   # 7은 1862580880 주소를 통해서 객체를 참조하여 참조변수라 함"
   ]
  }
 ],
 "metadata": {
  "kernelspec": {
   "display_name": "Python 3",
   "language": "python",
   "name": "python3"
  },
  "language_info": {
   "codemirror_mode": {
    "name": "ipython",
    "version": 3
   },
   "file_extension": ".py",
   "mimetype": "text/x-python",
   "name": "python",
   "nbconvert_exporter": "python",
   "pygments_lexer": "ipython3",
   "version": "3.6.0"
  }
 },
 "nbformat": 4,
 "nbformat_minor": 2
}
