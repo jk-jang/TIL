{
 "cells": [
  {
   "cell_type": "markdown",
   "metadata": {},
   "source": [
    "# 클래스\n",
    "- 사용자 정의 데이터 타입\n",
    "- 다수의 변수와 다수의 함수 집합\n",
    "\n",
    "ex) 인간 클래스(집합), 포유류 클래스(집합)"
   ]
  },
  {
   "cell_type": "code",
   "execution_count": 1,
   "metadata": {
    "collapsed": true
   },
   "outputs": [],
   "source": [
    "class Person:\n",
    "    def __init__(self, name, age, region): # 1. 생성자 함수(인자 입력때 self는 무시)\n",
    "        self.name = name\n",
    "        self.age = age\n",
    "        self.region = region"
   ]
  },
  {
   "cell_type": "markdown",
   "metadata": {},
   "source": [
    "# 인스턴스\n",
    "- 구체적인 사례\n",
    "\n",
    "ex)인간 클래스의 인스턴스는 박근혜, 문재인"
   ]
  },
  {
   "cell_type": "code",
   "execution_count": 2,
   "metadata": {
    "collapsed": false
   },
   "outputs": [
    {
     "data": {
      "text/plain": [
       "'park'"
      ]
     },
     "execution_count": 2,
     "metadata": {},
     "output_type": "execute_result"
    }
   ],
   "source": [
    "park = Person('park', 40, 'seoul') # 2. 생성자 함수(__init__)의 인자 입력해서 인스턴스 생성\n",
    "moon = Person('moon', 50, 'seoul')\n",
    "park.name"
   ]
  },
  {
   "cell_type": "markdown",
   "metadata": {},
   "source": [
    "### method 메서드\n",
    "- class에 묶여서 사용되는 함수\n",
    "- 인스턴스 함수? 느낌"
   ]
  },
  {
   "cell_type": "markdown",
   "metadata": {},
   "source": [
    "> say_hello, move_to 메서드를 만들어보자"
   ]
  },
  {
   "cell_type": "code",
   "execution_count": 3,
   "metadata": {
    "collapsed": true
   },
   "outputs": [],
   "source": [
    "class Person:\n",
    "    def __init__(self, name, age, region): \n",
    "        self.name = name\n",
    "        self.age = age\n",
    "        self.region = region\n",
    "    \n",
    "    def say_hello(self):\n",
    "        print('안녕하세요 {}님 {}에서 오셨군요'.format(self.name, self.region))\n",
    "        \n",
    "    def move_to(self, region):\n",
    "        print('{}에서 {}(으)로 이사합니다'.format(self.region, region))\n",
    "        self.region = region # 2. busan이 새로운 생성자 함수에 들어감"
   ]
  },
  {
   "cell_type": "code",
   "execution_count": 4,
   "metadata": {
    "collapsed": false
   },
   "outputs": [
    {
     "name": "stdout",
     "output_type": "stream",
     "text": [
      "안녕하세요 park님 seoul에서 오셨군요\n"
     ]
    }
   ],
   "source": [
    "park = Person('park', 40, 'seoul')\n",
    "park.say_hello()"
   ]
  },
  {
   "cell_type": "code",
   "execution_count": 5,
   "metadata": {
    "collapsed": false
   },
   "outputs": [
    {
     "name": "stdout",
     "output_type": "stream",
     "text": [
      "seoul에서 busan(으)로 이사합니다\n"
     ]
    }
   ],
   "source": [
    "park.move_to('busan') # 1. 인자값은 self 무시"
   ]
  },
  {
   "cell_type": "code",
   "execution_count": 6,
   "metadata": {
    "collapsed": false
   },
   "outputs": [
    {
     "data": {
      "text/plain": [
       "'busan'"
      ]
     },
     "execution_count": 6,
     "metadata": {},
     "output_type": "execute_result"
    }
   ],
   "source": [
    "park.region # 3. 변경된 인자값이 출력"
   ]
  },
  {
   "cell_type": "code",
   "execution_count": 7,
   "metadata": {
    "collapsed": false
   },
   "outputs": [
    {
     "name": "stdout",
     "output_type": "stream",
     "text": [
      "안녕하세요 park님 busan에서 오셨군요\n"
     ]
    }
   ],
   "source": [
    "park.say_hello()"
   ]
  },
  {
   "cell_type": "code",
   "execution_count": null,
   "metadata": {
    "collapsed": true
   },
   "outputs": [],
   "source": []
  }
 ],
 "metadata": {
  "kernelspec": {
   "display_name": "Python [default]",
   "language": "python",
   "name": "python3"
  },
  "language_info": {
   "codemirror_mode": {
    "name": "ipython",
    "version": 3
   },
   "file_extension": ".py",
   "mimetype": "text/x-python",
   "name": "python",
   "nbconvert_exporter": "python",
   "pygments_lexer": "ipython3",
   "version": "3.6.0"
  }
 },
 "nbformat": 4,
 "nbformat_minor": 2
}
