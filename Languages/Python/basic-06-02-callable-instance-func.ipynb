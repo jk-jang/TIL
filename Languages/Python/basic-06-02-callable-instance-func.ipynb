{
 "cells": [
  {
   "cell_type": "markdown",
   "metadata": {},
   "source": [
    "# 인스턴스를 호출가능하도록 만들기\n",
    "> 굳이 안써도 됨(갠적인 의견)\n",
    "\n",
    "- '\\__call__' 함수 사용\n",
    "- 메서드가 아닌 함수처럼 사용\n",
    "- call 함수를 이용하지 않으면 평소처럼 instance명.메서드() 인데\n",
    "- 함수처럼 사용하기 위해서 call 함수를 입력해서 함수()로 바로 사용함 <- instance명.메서드()랑 똑같음"
   ]
  },
  {
   "cell_type": "code",
   "execution_count": 10,
   "metadata": {
    "collapsed": true
   },
   "outputs": [],
   "source": [
    "class Person:\n",
    "    def __init__(self, name, age):\n",
    "        self.name = name\n",
    "        self.age = age\n",
    "        \n",
    "    def say_hello(self):\n",
    "        print('이름은 {}이고 나이는 {}입니다'.format(self.name, self.age))"
   ]
  },
  {
   "cell_type": "code",
   "execution_count": 11,
   "metadata": {
    "collapsed": false
   },
   "outputs": [
    {
     "name": "stdout",
     "output_type": "stream",
     "text": [
      "이름은 park이고 나이는 10입니다\n"
     ]
    }
   ],
   "source": [
    "park = Person('park',10)\n",
    "park.say_hello()"
   ]
  },
  {
   "cell_type": "markdown",
   "metadata": {},
   "source": [
    "### 여기까지 기존의 방법, call 함수를 사용해서 인스턴스를 함수화 해보자"
   ]
  },
  {
   "cell_type": "code",
   "execution_count": 23,
   "metadata": {
    "collapsed": true
   },
   "outputs": [],
   "source": [
    "class Person(object):\n",
    "    def __init__(self, name, age):\n",
    "        self.name = name\n",
    "        self.age = age\n",
    "        \n",
    "    def __call__(self):\n",
    "        print('이름은 {}이고 나이는 {}입니다'.format(self.name, self.age))"
   ]
  },
  {
   "cell_type": "code",
   "execution_count": 24,
   "metadata": {
    "collapsed": true
   },
   "outputs": [],
   "source": [
    "say_hello = Person('park', 10)"
   ]
  },
  {
   "cell_type": "code",
   "execution_count": 27,
   "metadata": {
    "collapsed": false
   },
   "outputs": [
    {
     "name": "stdout",
     "output_type": "stream",
     "text": [
      "이름은 park이고 나이는 10입니다\n"
     ]
    }
   ],
   "source": [
    "say_hello() # say_hello.__call__() 이렇게 써도 됨"
   ]
  }
 ],
 "metadata": {
  "kernelspec": {
   "display_name": "Python [default]",
   "language": "python",
   "name": "python3"
  },
  "language_info": {
   "codemirror_mode": {
    "name": "ipython",
    "version": 3
   },
   "file_extension": ".py",
   "mimetype": "text/x-python",
   "name": "python",
   "nbconvert_exporter": "python",
   "pygments_lexer": "ipython3",
   "version": "3.6.0"
  }
 },
 "nbformat": 4,
 "nbformat_minor": 2
}
